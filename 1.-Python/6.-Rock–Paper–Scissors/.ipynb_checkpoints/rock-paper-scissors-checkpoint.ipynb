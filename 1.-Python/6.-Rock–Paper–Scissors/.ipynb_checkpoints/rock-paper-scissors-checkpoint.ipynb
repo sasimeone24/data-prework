{
 "cells": [
  {
   "cell_type": "markdown",
   "metadata": {},
   "source": [
    "<img src=\"https://bit.ly/2VnXWr2\" width=\"100\" align=\"left\">"
   ]
  },
  {
   "cell_type": "markdown",
   "metadata": {},
   "source": [
    "# Rock, Paper & Scissors\n",
    "\n",
    "Let's play the famous game against our computer. You can check the rules [here](https://en.wikipedia.org/wiki/Rock%E2%80%93paper%E2%80%93scissors). \n",
    "\n",
    "## Task\n",
    "Create a program that imitates the playability of the well known game of rock, paper, scissors. Follow the guidelines provided.\n",
    "\n",
    "## Tools\n",
    "1. Loop: **for/while**\n",
    "2. Functions: **input(), print()...**\n",
    "3. Conditional statements: **if, elif, else**\n",
    "4. Definition of functions. Modular programming\n",
    "5. Import modules\n",
    "\n",
    "**To solve this challenge, the use of functions is recommended.**\n",
    "\n",
    "#### 1. Import the choice function of the random module."
   ]
  },
  {
   "cell_type": "code",
   "execution_count": 1,
   "metadata": {},
   "outputs": [],
   "source": [
    "import random"
   ]
  },
  {
   "cell_type": "markdown",
   "metadata": {},
   "source": [
    "#### 2. Create a list that includes the 3 possible gesture options of the game: 'rock', 'paper' or 'scissors'. Store the list in a variable called `gestures`."
   ]
  },
  {
   "cell_type": "code",
   "execution_count": 2,
   "metadata": {},
   "outputs": [],
   "source": [
    "gestures=['rock', 'paper', 'scissors']"
   ]
  },
  {
   "cell_type": "markdown",
   "metadata": {},
   "source": [
    "#### 3. Create a variable called `n_rounds` to store the maximum number of rounds to play in a game. \n",
    "Remember that the number of rounds must be odd: 1, 3, 5, ..."
   ]
  },
  {
   "cell_type": "code",
   "execution_count": 3,
   "metadata": {},
   "outputs": [],
   "source": [
    "n_rounds=3"
   ]
  },
  {
   "cell_type": "markdown",
   "metadata": {},
   "source": [
    "#### 4. Create a variable called `rounds_to_win` to store the number of rounds that a player must win to win the game.\n",
    "**Hint**: the value stored in `rounds_to_win` depends on the value of `n_rounds`. "
   ]
  },
  {
   "cell_type": "code",
   "execution_count": 4,
   "metadata": {},
   "outputs": [
    {
     "name": "stdout",
     "output_type": "stream",
     "text": [
      "The rounds the player or the computer have to win to win the game is: 2\n"
     ]
    }
   ],
   "source": [
    "rounds_to_win=int((n_rounds/2)+1)\n",
    "\n",
    "print('The rounds the player or the computer have to win to win the game is:', rounds_to_win)"
   ]
  },
  {
   "cell_type": "markdown",
   "metadata": {},
   "source": [
    "#### 5. Create two variables to store the number of rounds that the computer and the player have won. Call these variables `cpu_score` and `player_score`."
   ]
  },
  {
   "cell_type": "code",
   "execution_count": 5,
   "metadata": {},
   "outputs": [],
   "source": [
    "cpu_score=0\n",
    "player_score=0"
   ]
  },
  {
   "cell_type": "markdown",
   "metadata": {},
   "source": [
    "#### 6. Define a function that randomly returns one of the 3 gesture options.\n",
    "You will use this function to simulate the gesture choice of the computer. "
   ]
  },
  {
   "cell_type": "code",
   "execution_count": 6,
   "metadata": {},
   "outputs": [],
   "source": [
    "#create a function that will choose randomly from one of the gestures\n",
    "\n",
    "def rock_paper_scissor(x):\n",
    "    result=random.choice(x)\n",
    "    return result"
   ]
  },
  {
   "cell_type": "markdown",
   "metadata": {},
   "source": [
    "#### 7. Define a function that asks the player which is the gesture he or she wants to show: 'rock', 'paper' or 'scissors'.\n",
    "The player should only be allowed to choose one of the 3 gesture options. If the player's choice is not rock, paper or scissors, keep asking until it is."
   ]
  },
  {
   "cell_type": "code",
   "execution_count": 7,
   "metadata": {},
   "outputs": [],
   "source": [
    "#function that asks the player which is the gesture he or she wants to show: 'rock', 'paper' or 'scissors'\n",
    "\n",
    "def input_user():\n",
    "    condition=0\n",
    "    while condition == 0:\n",
    "        user=input('Enter one of the next options: rock, paper, scissors \\n')\n",
    "        if (user == 'rock') | (user == 'paper') | (user == 'scissors'):\n",
    "            condition=1\n",
    "            return user"
   ]
  },
  {
   "cell_type": "markdown",
   "metadata": {},
   "source": [
    "#### 8. Define a function that checks who won a round. \n",
    "The function should return 0 if there is a tie, 1 if the computer wins and 2 if the player wins."
   ]
  },
  {
   "cell_type": "code",
   "execution_count": 8,
   "metadata": {},
   "outputs": [],
   "source": [
    "def won_round(computer_input, user_input):\n",
    "    if computer_input == user_input:\n",
    "        result=0\n",
    "    elif (computer_input == 'paper') & (user_input == 'rock'):\n",
    "        result=1\n",
    "    elif (computer_input == 'paper') & (user_input == 'scissors'):\n",
    "        result=2\n",
    "    elif (computer_input == 'rock') & (user_input == 'paper'):\n",
    "        result=2\n",
    "    elif (computer_input == 'rock') & (user_input == 'scissors'):\n",
    "        result=1\n",
    "    elif (computer_input == 'scissors') & (user_input == 'rock'):\n",
    "        result=2\n",
    "    elif (computer_input == 'scissors') & (user_input == 'paper'):\n",
    "        result=1\n",
    "    \n",
    "    return result"
   ]
  },
  {
   "cell_type": "markdown",
   "metadata": {},
   "source": [
    "#### 9. Define a function that prints the choice of the computer, the choice of the player and a message that announces who won the current round. \n",
    "You should also use this function to update the variables that count the number of rounds that the computer and the player have won. The score of the winner increases by one point. If there is a tie, the score does not increase."
   ]
  },
  {
   "cell_type": "code",
   "execution_count": 9,
   "metadata": {},
   "outputs": [],
   "source": [
    "def round_match(computer_input, user_input, result, cpu_win, player_win):\n",
    "    print('The computer choice was:', computer_input)\n",
    "    print('The player choice was:', user_input)\n",
    "    \n",
    "    if result == 0:\n",
    "        print('The round end in a tie')\n",
    "    elif result == 1:\n",
    "        cpu_win += 1\n",
    "        print('The computer won the round')\n",
    "    else:\n",
    "        player_win += 1\n",
    "        print('The player won the round')\n",
    "    \n",
    "    return cpu_win, player_win"
   ]
  },
  {
   "cell_type": "markdown",
   "metadata": {},
   "source": [
    "#### 10. Now it's time to code the execution of the game using the functions and variables you defined above. \n",
    "\n",
    "First, create a loop structure that repeats while no player reaches the minimum score necessary to win and the number of rounds is less than the maximum number of rounds to play in a game.  \n",
    "\n",
    "Inside the loop, use the functions and variables above to create the execution of a round: ask for the player's choice, generate the random choice of the computer, show the round results, update the scores, etc. "
   ]
  },
  {
   "cell_type": "code",
   "execution_count": 10,
   "metadata": {},
   "outputs": [
    {
     "name": "stdout",
     "output_type": "stream",
     "text": [
      "Enter one of the next options: rock, paper, scissors \n",
      "rock\n",
      "The computer choice was: paper\n",
      "The player choice was: rock\n",
      "The computer won the round\n",
      "Enter one of the next options: rock, paper, scissors \n",
      "papers\n",
      "Enter one of the next options: rock, paper, scissors \n",
      "paper\n",
      "The computer choice was: paper\n",
      "The player choice was: paper\n",
      "The round end in a tie\n",
      "Enter one of the next options: rock, paper, scissors \n",
      "scissors\n",
      "The computer choice was: paper\n",
      "The player choice was: scissors\n",
      "The player won the round\n"
     ]
    }
   ],
   "source": [
    "round_count=0\n",
    "\n",
    "while ((cpu_score < rounds_to_win) & (player_score < rounds_to_win)) & (n_rounds > round_count):\n",
    "    computer_input=rock_paper_scissor(gestures)\n",
    "    player_input=input_user()\n",
    "    round_result=won_round(computer_input, player_input)\n",
    "    results=round_match(computer_input, player_input, round_result, cpu_score, player_score)\n",
    "    \n",
    "    cpu_score = results[0]\n",
    "    player_score = results[1]\n",
    "    round_count += 1"
   ]
  },
  {
   "cell_type": "markdown",
   "metadata": {},
   "source": [
    "#### 11. Print the winner of the game based on who won more rounds.\n",
    "Remember that the game might be tied. "
   ]
  },
  {
   "cell_type": "code",
   "execution_count": 11,
   "metadata": {},
   "outputs": [
    {
     "name": "stdout",
     "output_type": "stream",
     "text": [
      "The game ends Tied\n"
     ]
    }
   ],
   "source": [
    "if cpu_score == player_score:\n",
    "    print('The game ends Tied')\n",
    "elif cpu_score > player_score:\n",
    "    print('The CPU won the game whit', cpu_score, 'victories')\n",
    "else:\n",
    "    print('The Player won the game whit', player_score, 'victories')"
   ]
  },
  {
   "cell_type": "markdown",
   "metadata": {},
   "source": [
    "# Bonus: Rock, Paper, Scissors, Lizard & Spock\n",
    "![](images/rpsls.jpg)\n",
    "\n",
    "In this challenge, you need to improve the previous game by adding two new options. To know more about the rules of the improved version of rock, paper, scissors, check this [link](http://www.samkass.com/theories/RPSSL.html). \n",
    "\n",
    "In addition, you will also need to improve how the game interacts with the player: the number of rounds to play, which must be an odd number, will be requested to the user until a valid number is entered. Define a new function to make that request.\n",
    "\n",
    "**Hint**: Try to reuse the code that you already coded in the previous challenge. If your code is efficient, this bonus will only consist of simple modifications to the original game."
   ]
  },
  {
   "cell_type": "code",
   "execution_count": 12,
   "metadata": {},
   "outputs": [
    {
     "name": "stdout",
     "output_type": "stream",
     "text": [
      "Enter the number of round to play. The number has to be odd \n",
      "3\n",
      "The rounds the player or the computer have to win to win the game is: 2\n",
      "Enter one of the next options: rock, paper, scissors, lizard, spock \n",
      "spock\n",
      "The computer choice was: rock\n",
      "The player choice was: spock\n",
      "The player won the round\n",
      "Enter one of the next options: rock, paper, scissors, lizard, spock \n",
      "lizard\n",
      "The computer choice was: lizard\n",
      "The player choice was: lizard\n",
      "The round end in a tie\n",
      "Enter one of the next options: rock, paper, scissors, lizard, spock \n",
      "paper\n",
      "The computer choice was: paper\n",
      "The player choice was: paper\n",
      "The round end in a tie\n",
      "\n",
      "The Player won the game whit 1 victories\n"
     ]
    }
   ],
   "source": [
    "import random\n",
    "gestures=['rock', 'paper', 'scissors', 'lizard', 'spock']\n",
    "\n",
    "\n",
    "def rock_paper_scissor(x):\n",
    "    result=random.choice(x)\n",
    "    return result\n",
    "\n",
    "\n",
    "def input_user():\n",
    "    condition=0\n",
    "    while condition == 0:\n",
    "        user=input('Enter one of the next options: rock, paper, scissors, lizard, spock \\n')\n",
    "        if (user == 'rock') | (user == 'paper') | (user == 'scissors') | (user == 'spock') | (user == 'lizard'):\n",
    "            condition = 1\n",
    "                    \n",
    "    return user\n",
    "        \n",
    "\n",
    "def won_round(computer_input, user_input):\n",
    "    if computer_input == user_input:\n",
    "        result=0\n",
    "    elif (computer_input == 'paper') & (user_input == 'rock'):\n",
    "        result=1\n",
    "    elif (computer_input == 'paper') & (user_input == 'scissors'):\n",
    "        result=2\n",
    "    elif (computer_input == 'paper') & (user_input == 'lizard'):\n",
    "        result=2\n",
    "    elif (computer_input == 'paper') & (user_input == 'spock'):\n",
    "        result=1\n",
    "    elif (computer_input == 'rock') & (user_input == 'paper'):\n",
    "        result=2\n",
    "    elif (computer_input == 'rock') & (user_input == 'scissors'):\n",
    "        result=1\n",
    "    elif (computer_input == 'rock') & (user_input == 'lizard'):\n",
    "        result=1\n",
    "    elif (computer_input == 'rock') & (user_input == 'spock'):\n",
    "        result=2\n",
    "    elif (computer_input == 'scissors') & (user_input == 'rock'):\n",
    "        result=2\n",
    "    elif (computer_input == 'scissors') & (user_input == 'spock'):\n",
    "        result=2\n",
    "    elif (computer_input == 'scissors') & (user_input == 'lizard'):\n",
    "        result=1\n",
    "    elif (computer_input == 'scissors') & (user_input == 'paper'):\n",
    "        result=1\n",
    "    elif (computer_input == 'lizard') & (user_input == 'paper'):\n",
    "        result=1\n",
    "    elif (computer_input == 'lizard') & (user_input == 'rock'):\n",
    "        result=2\n",
    "    elif (computer_input == 'lizard') & (user_input == 'scissors'):\n",
    "        result=2\n",
    "    elif (computer_input == 'lizard') & (user_input == 'spock'):\n",
    "        result=1\n",
    "    elif (computer_input == 'spock') & (user_input == 'paper'):\n",
    "        result=2\n",
    "    elif (computer_input == 'spock') & (user_input == 'rock'):\n",
    "        result=1\n",
    "    elif (computer_input == 'spock') & (user_input == 'scissors'):\n",
    "        result=1\n",
    "    elif (computer_input == 'spock') & (user_input == 'lizard'):\n",
    "        result=2\n",
    "    \n",
    "    return result\n",
    "\n",
    "\n",
    "def round_match(computer_input, user_input, result, cpu_win, player_win):\n",
    "    print('The computer choice was:', computer_input)\n",
    "    print('The player choice was:', user_input)\n",
    "    \n",
    "    if result == 0:\n",
    "        print('The round end in a tie')\n",
    "    elif result == 1:\n",
    "        cpu_win += 1\n",
    "        print('The computer won the round')\n",
    "    else:\n",
    "        player_win += 1\n",
    "        print('The player won the round')\n",
    "    \n",
    "    return cpu_win, player_win\n",
    "\n",
    "\n",
    "#Aqui comienza el programa\n",
    "cpu_score=0\n",
    "player_score=0\n",
    "round_count=0\n",
    "\n",
    "#Interactuamos con el usuario para que introdusca el numero de rondas que quiere jugar. Debe ser un numero impar\n",
    "condition=0\n",
    "while condition == 0:\n",
    "    rounds=input('Enter the number of round to play. The number has to be odd \\n')\n",
    "    n_rounds=int(rounds)\n",
    "    if (n_rounds % 2) != 0:\n",
    "        condition = 1\n",
    "        \n",
    "rounds_to_win=int((n_rounds/2)+1)\n",
    "\n",
    "print('The rounds the player or the computer have to win to win the game is:', rounds_to_win)\n",
    "\n",
    "\n",
    "while ((cpu_score < rounds_to_win) & (player_score < rounds_to_win)) & (n_rounds > round_count):\n",
    "    computer_input=rock_paper_scissor(gestures)\n",
    "    player_input=input_user()\n",
    "    round_result=won_round(computer_input, player_input)\n",
    "    results=round_match(computer_input, player_input, round_result, cpu_score, player_score)\n",
    "    \n",
    "    cpu_score = results[0]\n",
    "    player_score = results[1]\n",
    "    round_count += 1\n",
    "    \n",
    "if cpu_score == player_score:\n",
    "    print('\\nThe game ends Tied')\n",
    "elif cpu_score > player_score:\n",
    "    print('\\nThe CPU won the game whit', cpu_score, 'victories')\n",
    "else:\n",
    "    print('\\nThe Player won the game whit', player_score, 'victories')"
   ]
  },
  {
   "cell_type": "code",
   "execution_count": null,
   "metadata": {},
   "outputs": [],
   "source": []
  }
 ],
 "metadata": {
  "kernelspec": {
   "display_name": "Python 3",
   "language": "python",
   "name": "python3"
  },
  "language_info": {
   "codemirror_mode": {
    "name": "ipython",
    "version": 3
   },
   "file_extension": ".py",
   "mimetype": "text/x-python",
   "name": "python",
   "nbconvert_exporter": "python",
   "pygments_lexer": "ipython3",
   "version": "3.8.8"
  }
 },
 "nbformat": 4,
 "nbformat_minor": 2
}
