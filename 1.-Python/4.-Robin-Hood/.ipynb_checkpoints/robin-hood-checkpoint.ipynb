{
 "cells": [
  {
   "cell_type": "markdown",
   "metadata": {},
   "source": [
    "<img src=\"https://bit.ly/2VnXWr2\" width=\"100\" align=\"left\"/>"
   ]
  },
  {
   "cell_type": "markdown",
   "metadata": {},
   "source": [
    "# Robin Hood\n",
    "Robin Hood has entered a competition to win the archery contest in Sherwood. With his bow and arrows, he needs to shoot on a target and try to hit as close as possible to the center.\n",
    "\n",
    "![](images/arrows.jpg)\n",
    "\n",
    "## Context\n",
    "In this challenge, the landing position of arrows shot by archers in the competition will be represented using 2-dimensional coordinates. \n",
    "\n",
    "In the 2-dimensional space, a point can be defined by a pair of values that correspond to the horizontal coordinate (x) and the vertical coordinate (y). For example, in our case, an arrow that hits the center of the archery target will land in position (0, 0) on the coordinate axes. \n",
    "\n",
    "The space can be divided into 4 zones (quadrants): Q1, Q2, Q3, Q4. If a point is in Q1, both its x coordinate and y coordinate are positive. Any point with a null x or y coordinate is considered to not belong to any quadrant. \n",
    "\n",
    "If you want to know more about the cartesian coordinate system, you can check this [link](https://en.wikipedia.org/wiki/Cartesian_coordinate_system). \n",
    "\n",
    "## Tools\n",
    "You don't necessarily need to use all the tools. Maybe you opt to use some of them or completely different ones, they are given to help you shape the exercise. Programming exercises can be solved in many different ways.\n",
    "* Data structures: **lists, sets, tuples**\n",
    "* Conditional statements: **if-elif-else**\n",
    "* Loop: **while/for**\n",
    "* Minimum (optional sorting)\n",
    "\n",
    "## Tasks\n",
    "Robin Hood has hit the following points:"
   ]
  },
  {
   "cell_type": "code",
   "execution_count": 8,
   "metadata": {},
   "outputs": [],
   "source": [
    "points = [(4, 5), (-0, 2), (4, 7), (1, -3), (3, -2), (4, 5), (3, 2), (5, 7), (-5, 7), (2, 2), (-4, 5), (0, -2),\n",
    "          (-4, 7), (-1, 3), (-3, 2), (-4, -5), (-3, 2), (5, 7), (5, 7), (2, 2), (9, 9), (-8, -9)]"
   ]
  },
  {
   "cell_type": "markdown",
   "metadata": {},
   "source": [
    "#### 1. Robin Hood is famous for hitting an arrow with another arrow. Find the coordinates of the points where an arrow hits another arrow."
   ]
  },
  {
   "cell_type": "code",
   "execution_count": 9,
   "metadata": {},
   "outputs": [
    {
     "name": "stdout",
     "output_type": "stream",
     "text": [
      "The coordinates of the points where an arrow hits another arrow are: [(5, 7), (4, 5), (2, 2), (-3, 2)]\n"
     ]
    }
   ],
   "source": [
    "arrow_hit_arrow=[] #list were we are goint to save the points where an arrow hits another arrow\n",
    "points_nd=set(points) #points whit no duplicates\n",
    "number_shots_same_point=0\n",
    "\n",
    "\n",
    "for shot_nd in points_nd: #firts loop to index in the no duplicate shot list\n",
    "    for shot in points: #second loop to comparate both list and see the points where an arrow hits another arrow\n",
    "        if shot_nd == shot:\n",
    "            number_shots_same_point += 1\n",
    "    \n",
    "    if number_shots_same_point > 1: #if an arrow fall in the same spot twice or more, then we found one point where an arrow hits another arrow\n",
    "        arrow_hit_arrow.append(shot_nd)\n",
    "        \n",
    "    number_shots_same_point=0 #we reset the counter for the next arrow hit\n",
    "\n",
    "        \n",
    "print('The coordinates of the points where an arrow hits another arrow are:', arrow_hit_arrow)"
   ]
  },
  {
   "cell_type": "markdown",
   "metadata": {},
   "source": [
    "#### 2. Calculate how many arrows have fallen in each quadrant. \n",
    "**Note**: the arrows that fall in the axis (x=0 or y=0) don't belong to any quadrant."
   ]
  },
  {
   "cell_type": "code",
   "execution_count": 10,
   "metadata": {},
   "outputs": [
    {
     "name": "stdout",
     "output_type": "stream",
     "text": [
      "\n",
      "The number of arrows that hit the firt quadrant is: 11\n",
      "The number of arrows that hit the second quadrant is: 6\n",
      "The number of arrows that hit the third quadrant is: 3\n",
      "The number of arrows that hit the four quadrant is: 2\n"
     ]
    }
   ],
   "source": [
    "arrows_Q1=0\n",
    "arrows_Q2=0\n",
    "arrows_Q3=0\n",
    "arrows_Q4=0\n",
    "\n",
    "for shot in range(len(points)):\n",
    "    if (points[shot][0] == 0) & (points[shot][1] == 0): #Whit this conditional eliminate the possibilite of count an arrow that falls in the (0,0)\n",
    "        print('The arros number', shot, 'fall in the spot (0,0), dont belong to any quadrant')\n",
    "    elif (points[shot][0] >= 0) & (points[shot][1] >= 0):\n",
    "        arrows_Q1 += 1\n",
    "    elif (points[shot][0] <= 0) & (points[shot][1] >= 0):\n",
    "        arrows_Q2 += 1\n",
    "    elif (points[shot][0] <= 0) & (points[shot][1] <= 0):\n",
    "        arrows_Q3 += 1\n",
    "    else: #if the arrow dont fall in the Q1, Q2 or Q3 its becacause it fall in the Q4\n",
    "        arrows_Q4 += 1\n",
    "        \n",
    "print('\\nThe number of arrows that hit the firt quadrant is:', arrows_Q1)\n",
    "print('The number of arrows that hit the second quadrant is:', arrows_Q2)\n",
    "print('The number of arrows that hit the third quadrant is:', arrows_Q3)\n",
    "print('The number of arrows that hit the four quadrant is:', arrows_Q4)"
   ]
  },
  {
   "cell_type": "markdown",
   "metadata": {},
   "source": [
    "#### 3. Find the point closest to the center. Calculate its distance to the center. \n",
    "Take into account that there might be more than one point at the minimum distance to the center.\n",
    "\n",
    "**Hint**: Use the Euclidean distance. You can find more information about it [here](https://en.wikipedia.org/wiki/Euclidean_distance).  \n",
    "**Hint**: Defining a function that calculates the distance to the center can help."
   ]
  },
  {
   "cell_type": "code",
   "execution_count": 11,
   "metadata": {},
   "outputs": [
    {
     "name": "stdout",
     "output_type": "stream",
     "text": [
      "The points closest to the center are: {(0, 2), (0, -2)} whit a distance of 2.0\n"
     ]
    }
   ],
   "source": [
    "import numpy #we import the numpy library to be able to perform the square root operation\n",
    "\n",
    "distance_center=[]\n",
    "point_close_center=[]\n",
    "distance=0\n",
    "\n",
    "for shot in range(len(points)): #will help us to calculate the distances of each point to the center\n",
    "    distance=numpy.sqrt((points[shot][0] ** 2) + (points[shot][1] ** 2))\n",
    "    distance_center.append(distance)\n",
    "\n",
    "distance_center_nd=set(distance_center) #eliminates the duplicates\n",
    "min_distance_center=min(distance_center_nd) #The minimum value is the closest to the center\n",
    "\n",
    "for distance in range(len(distance_center)): #will help us to find the point or points that have the closes distance to the center\n",
    "    if min_distance_center == distance_center[distance]:\n",
    "        point_close_center.append(points[distance])\n",
    "\n",
    "        \n",
    "point_close_center_nd=set(point_close_center) #eliminate duplicates\n",
    "print('The points closest to the center are:', point_close_center_nd , 'whit a distance of', min_distance_center)\n"
   ]
  },
  {
   "cell_type": "markdown",
   "metadata": {},
   "source": [
    "#### 4. If the archery target has a radius of 9, calculate the number of arrows that won't hit the target. \n",
    "**Hint**: Use the function created in step 3. "
   ]
  },
  {
   "cell_type": "code",
   "execution_count": 14,
   "metadata": {},
   "outputs": [
    {
     "name": "stdout",
     "output_type": "stream",
     "text": [
      "The number of arrows that wont hit the target are: 2\n"
     ]
    }
   ],
   "source": [
    "radius=9\n",
    "number_arrow_dont_hit=0\n",
    "\n",
    "for distance in range(len(distance_center)):\n",
    "    if distance_center[distance] > radius: #The arrow won't hit the target\n",
    "        number_arrow_dont_hit += 1\n",
    "\n",
    "print('The number of arrows that wont hit the target are:', number_arrow_dont_hit)"
   ]
  },
  {
   "cell_type": "code",
   "execution_count": null,
   "metadata": {},
   "outputs": [],
   "source": []
  }
 ],
 "metadata": {
  "kernelspec": {
   "display_name": "Python 3",
   "language": "python",
   "name": "python3"
  },
  "language_info": {
   "codemirror_mode": {
    "name": "ipython",
    "version": 3
   },
   "file_extension": ".py",
   "mimetype": "text/x-python",
   "name": "python",
   "nbconvert_exporter": "python",
   "pygments_lexer": "ipython3",
   "version": "3.8.8"
  }
 },
 "nbformat": 4,
 "nbformat_minor": 2
}
