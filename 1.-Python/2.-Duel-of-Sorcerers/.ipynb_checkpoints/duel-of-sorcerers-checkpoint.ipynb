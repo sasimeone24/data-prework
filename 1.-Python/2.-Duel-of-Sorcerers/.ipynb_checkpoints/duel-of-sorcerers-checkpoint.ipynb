{
 "cells": [
  {
   "cell_type": "markdown",
   "metadata": {},
   "source": [
    "<img src=\"https://bit.ly/2VnXWr2\" width=\"100\" align=\"left\">"
   ]
  },
  {
   "cell_type": "markdown",
   "metadata": {},
   "source": [
    "# Duel of Sorcerers\n",
    "You are witnessing an epic battle between two powerful sorcerers: Gandalf and Saruman. Each sorcerer has 10 spells of variable power in their mind and they are going to throw them one after the other. The winner of the duel will be the one who wins more of those clashes between spells. Spells are represented as a list of 10 integers whose value equals the power of the spell.\n",
    "```\n",
    "gandalf = [10, 11, 13, 30, 22, 11, 10, 33, 22, 22]\n",
    "saruman = [23, 66, 12, 43, 12, 10, 44, 23, 12, 17]\n",
    "```\n",
    "For example:\n",
    "- The first clash is won by Saruman: 10 against 23.\n",
    "- The second clash is won by Saruman: 11 against 66.\n",
    "- ...\n",
    "\n",
    "You will create two variables, one for each sorcerer, where the sum of clashes won will be stored. Depending on which variable is greater at the end of the duel, you will show one of the following three results on the screen:\n",
    "* Gandalf wins\n",
    "* Saruman wins\n",
    "* Tie\n",
    "\n",
    "<img src=\"images/content_lightning_bolt_big.jpg\" width=\"400\">"
   ]
  },
  {
   "cell_type": "markdown",
   "metadata": {},
   "source": [
    "## Tools\n",
    "You don't necessarily need to use all the tools. Maybe you opt to use some of them or completely different ones, they are given to help you shape the exercise. Programming exercises can be solved in many different ways.\n",
    "\n",
    "1. Data structures: **lists, dictionaries**\n",
    "2. Loop: **for loop**\n",
    "3. Conditional statements: **if-elif-else**\n",
    "4. Functions: **range(), len(), print()**\n",
    "\n",
    "## Tasks\n",
    "\n",
    "#### 1. Create two variables called `gandalf` and `saruman` and assign them the spell power lists. Create a variable called `spells` to store the number of spells that the sorcerers cast. "
   ]
  },
  {
   "cell_type": "code",
   "execution_count": 21,
   "metadata": {},
   "outputs": [],
   "source": [
    "gandalf = [10, 11, 13, 30, 22, 11, 10, 33, 22, 22]\n",
    "saruman = [23, 66, 12, 43, 12, 10, 44, 23, 12, 17]\n",
    "spells = range(len(gandalf)) #we create a range of values for the length of spells cast"
   ]
  },
  {
   "cell_type": "markdown",
   "metadata": {},
   "source": [
    "#### 2. Create two variables called `gandalf_wins` and `saruman_wins`. Set both of them to 0. \n",
    "You will use these variables to count the number of clashes each sorcerer wins. "
   ]
  },
  {
   "cell_type": "code",
   "execution_count": 22,
   "metadata": {},
   "outputs": [],
   "source": [
    "gandalf_wins = 0\n",
    "saruman_wins = 0"
   ]
  },
  {
   "cell_type": "markdown",
   "metadata": {},
   "source": [
    "#### 3. Using the lists of spells of both sorcerers, update variables `gandalf_wins` and `saruman_wins` to count the number of times each sorcerer wins a clash. "
   ]
  },
  {
   "cell_type": "code",
   "execution_count": 23,
   "metadata": {},
   "outputs": [
    {
     "name": "stdout",
     "output_type": "stream",
     "text": [
      "Saruman wins\n",
      "Saruman wins\n",
      "Gandalf wins\n",
      "Saruman wins\n",
      "Gandalf wins\n",
      "Gandalf wins\n",
      "Saruman wins\n",
      "Gandalf wins\n",
      "Gandalf wins\n",
      "Gandalf wins\n"
     ]
    }
   ],
   "source": [
    "for spell in spells:\n",
    "    if gandalf[spell] > saruman[spell]: #whit this conditional we know is Gandalf won the duel\n",
    "        gandalf_wins += 1\n",
    "        print('Gandalf wins')\n",
    "        \n",
    "    elif gandalf[spell] < saruman[spell]: #whit this conditional we know is Saruman won the duel\n",
    "        saruman_wins += 1\n",
    "        print('Saruman wins')\n",
    "    \n",
    "    else:\n",
    "        print('Tie')"
   ]
  },
  {
   "cell_type": "markdown",
   "metadata": {},
   "source": [
    "#### 4. Who won the battle?\n",
    "Print `Gandalf wins`, `Saruman wins` or `Tie` depending on the result. "
   ]
  },
  {
   "cell_type": "code",
   "execution_count": 24,
   "metadata": {},
   "outputs": [
    {
     "name": "stdout",
     "output_type": "stream",
     "text": [
      "Gandalf whit 6 victories won the clash :)\n"
     ]
    }
   ],
   "source": [
    "if gandalf_wins > saruman_wins:\n",
    "    print('Gandalf whit', gandalf_wins, 'victories won the clash :)')\n",
    "    \n",
    "elif gandalf_wins < saruman_wins:\n",
    "    print('Saruman whit', saruman_wins, 'victories won the clash :(')\n",
    "    \n",
    "else: #if Gandalf dont have more victories than Samuran, and Saruman dont have more victories than Gandalf it is because we have a draw\n",
    "    print('The clash ended in a draw with', gandalf_wins, 'wins for each one')"
   ]
  },
  {
   "cell_type": "markdown",
   "metadata": {},
   "source": [
    "## Bonus\n",
    "\n",
    "In this bonus challenge, you'll need to check the winner of the battle but this time, a sorcerer wins if he succeeds in winning 3 spell clashes in a row.\n",
    "\n",
    "Also, the spells now have a name and there is a dictionary that associates that name to a power.\n",
    "\n",
    "```\n",
    "POWER = {\n",
    "    'Fireball': 50, \n",
    "    'Lightning bolt': 40, \n",
    "    'Magic arrow': 10, \n",
    "    'Black Tentacles': 25, \n",
    "    'Contagion': 45\n",
    "}\n",
    "\n",
    "gandalf = ['Fireball', 'Lightning bolt', 'Lightning bolt', 'Magic arrow', 'Fireball', \n",
    "           'Magic arrow', 'Lightning bolt', 'Fireball', 'Fireball', 'Fireball']\n",
    "saruman = ['Contagion', 'Contagion', 'Black Tentacles', 'Fireball', 'Black Tentacles', \n",
    "           'Lightning bolt', 'Magic arrow', 'Contagion', 'Magic arrow', 'Magic arrow']\n",
    "```\n",
    "\n",
    "#### 1. Create variables `POWER`, `gandalf` and `saruman` as seen above. Create a variable called `spells` to store the number of spells that the sorcerers cast. "
   ]
  },
  {
   "cell_type": "code",
   "execution_count": 25,
   "metadata": {},
   "outputs": [],
   "source": [
    "POWER = {\n",
    "    'Fireball': 50, \n",
    "    'Lightning bolt': 40, \n",
    "    'Magic arrow': 10, \n",
    "    'Black Tentacles': 25, \n",
    "    'Contagion': 45\n",
    "}\n",
    "\n",
    "gandalf = ['Fireball', 'Lightning bolt', 'Lightning bolt', 'Magic arrow', 'Fireball', \n",
    "           'Magic arrow', 'Lightning bolt', 'Fireball', 'Fireball', 'Fireball']\n",
    "saruman = ['Contagion', 'Contagion', 'Black Tentacles', 'Fireball', 'Black Tentacles', \n",
    "           'Lightning bolt', 'Magic arrow', 'Contagion', 'Magic arrow', 'Magic arrow']\n",
    "\n",
    "spells = range(len(gandalf)) #we create a range of values for the length of spells cast"
   ]
  },
  {
   "cell_type": "markdown",
   "metadata": {},
   "source": [
    "#### 2. Create two variables called `gandalf_wins` and `saruman_wins`. Set both of them to 0. "
   ]
  },
  {
   "cell_type": "code",
   "execution_count": 26,
   "metadata": {},
   "outputs": [],
   "source": [
    "gandalf_wins = 0\n",
    "saruman_wins = 0"
   ]
  },
  {
   "cell_type": "markdown",
   "metadata": {},
   "source": [
    "#### 3. Create two variables called `gandalf_power` and `saruman_power` to store the list of spell powers of each sorcerer."
   ]
  },
  {
   "cell_type": "code",
   "execution_count": 27,
   "metadata": {},
   "outputs": [
    {
     "name": "stdout",
     "output_type": "stream",
     "text": [
      "List of power of Gandalf: [50, 40, 40, 10, 50, 10, 40, 50, 50, 50]\n",
      "List of power of Saruman: [45, 45, 25, 50, 25, 40, 10, 45, 10, 10]\n"
     ]
    }
   ],
   "source": [
    "gandalf_power=[0] * len(gandalf)\n",
    "saruman_power=[0] * len(gandalf)\n",
    "\n",
    "for spell_name, power in POWER.items():\n",
    "    for spell in spells:\n",
    "        if spell_name == gandalf[spell]:\n",
    "            gandalf_power[spell] = power\n",
    "            \n",
    "        elif spell_name == saruman[spell]:\n",
    "            saruman_power[spell] = power\n",
    "            \n",
    "print('List of power of Gandalf:', gandalf_power)\n",
    "print('List of power of Saruman:', saruman_power)"
   ]
  },
  {
   "cell_type": "markdown",
   "metadata": {},
   "source": [
    "#### 4. The battle starts! Using the variables you've created above, code the execution of spell clashes. Remember that a sorcerer wins if he succeeds in winning 3 spell clashes in a row. \n",
    "If a clash ends up in a tie, the counter of wins in a row is not restarted to 0. Remember to print who is the winner of the battle. "
   ]
  },
  {
   "cell_type": "code",
   "execution_count": 28,
   "metadata": {},
   "outputs": [
    {
     "name": "stdout",
     "output_type": "stream",
     "text": [
      "Gandalf wins\n",
      "Saruman wins\n",
      "Gandalf wins\n",
      "Saruman wins\n",
      "Gandalf wins\n",
      "Saruman wins\n",
      "Gandalf wins\n",
      "Gandalf wins\n",
      "Gandalf wins\n",
      "\n",
      " Gandalf whit 3 victories in a row won the clash :)\n"
     ]
    }
   ],
   "source": [
    "spell_count=0\n",
    "\n",
    "while (gandalf_wins < 3) & (saruman_wins < 3):\n",
    "    \n",
    "    if gandalf_power[spell_count] > saruman_power[spell_count]: \n",
    "        gandalf_wins += 1\n",
    "        saruman_wins = 0\n",
    "        print('Gandalf wins')\n",
    "        \n",
    "    elif gandalf_power[spell_count] < saruman_power[spell_count]: \n",
    "        saruman_wins += 1\n",
    "        gandalf_wins = 0\n",
    "        print('Saruman wins')\n",
    "        \n",
    "    else:\n",
    "        print('Tie')\n",
    "            \n",
    "    spell_count += 1\n",
    "        \n",
    "        \n",
    "if gandalf_wins == 3:\n",
    "    print('\\n Gandalf whit', gandalf_wins, 'victories in a row won the clash :)')\n",
    "    \n",
    "elif gandalf_wins == 3:\n",
    "    print('Saruman whit', saruman_wins, 'victories in a row won the clash :(')"
   ]
  },
  {
   "cell_type": "markdown",
   "metadata": {},
   "source": [
    "#### 5. Find the average spell power of Gandalf and Saruman. "
   ]
  },
  {
   "cell_type": "code",
   "execution_count": 29,
   "metadata": {},
   "outputs": [
    {
     "name": "stdout",
     "output_type": "stream",
     "text": [
      "The average spell power og Gandalf is 39.0\n",
      "The average spell power og Saruman is 30.5\n"
     ]
    }
   ],
   "source": [
    "avg_powe_grandalf=sum(gandalf_power)/len(gandalf_power)\n",
    "avg_powe_sasruman=sum(saruman_power)/len(saruman_power)\n",
    "\n",
    "print('The average spell power og Gandalf is', avg_powe_grandalf)\n",
    "print('The average spell power og Saruman is', avg_powe_sasruman)"
   ]
  },
  {
   "cell_type": "markdown",
   "metadata": {},
   "source": [
    "#### 6. Find the standard deviation of the spell power of Gandalf and Saruman. "
   ]
  },
  {
   "cell_type": "code",
   "execution_count": 30,
   "metadata": {},
   "outputs": [
    {
     "name": "stdout",
     "output_type": "stream",
     "text": [
      "The standard deviation of the Gandalf spells is 15.951314818673865\n",
      "The standard deviation of the Saruman spells is 16.40629960309962\n"
     ]
    }
   ],
   "source": [
    "import statistics\n",
    "\n",
    "des_st_glandalf=statistics.stdev(gandalf_power)\n",
    "des_st_saruman=statistics.stdev(saruman_power)\n",
    "\n",
    "print('The standard deviation of the Gandalf spells is', des_st_glandalf)\n",
    "print('The standard deviation of the Saruman spells is', des_st_saruman)"
   ]
  },
  {
   "cell_type": "code",
   "execution_count": null,
   "metadata": {},
   "outputs": [],
   "source": []
  }
 ],
 "metadata": {
  "kernelspec": {
   "display_name": "Python 3",
   "language": "python",
   "name": "python3"
  },
  "language_info": {
   "codemirror_mode": {
    "name": "ipython",
    "version": 3
   },
   "file_extension": ".py",
   "mimetype": "text/x-python",
   "name": "python",
   "nbconvert_exporter": "python",
   "pygments_lexer": "ipython3",
   "version": "3.8.8"
  }
 },
 "nbformat": 4,
 "nbformat_minor": 2
}
