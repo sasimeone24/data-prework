{
 "cells": [
  {
   "cell_type": "markdown",
   "metadata": {},
   "source": [
    "<img src=\"https://bit.ly/2VnXWr2\" width=\"100\" align=\"left\">"
   ]
  },
  {
   "cell_type": "markdown",
   "metadata": {},
   "source": [
    "# Temperature Sensor\n",
    "\n",
    "There is a temperature sensor in the processor of your company's server. The company wants to analyze the data provided by the sensor to decide if they should change the cooling system for a better one. As changing the cooling system is expensive and you are an excellent data analyst, you can't make a decision without basis.\n",
    "\n",
    "## Tools\n",
    "You don't necessarily need to use all the tools. Maybe you opt to use some of them or completely different ones, they are given to help you shape the exercise. Programming exercises can be solved in many different ways.\n",
    "1. Data structures: **lists**\n",
    "2. Loops: **list comprehension**\n",
    "3. Functions: **min, max, print, len**\n",
    "4. Conditional statements: **if-elif-else**\n",
    "\n",
    "## Tasks\n",
    "The temperatures measured throughout the 24 hours of a day are:"
   ]
  },
  {
   "cell_type": "code",
   "execution_count": 1,
   "metadata": {},
   "outputs": [],
   "source": [
    "temperatures_C = [33, 66, 65, 0, 59, 60, 62, 64, 70, 76, 80, 81, 80, 83, 90, 79, 61, 53, 50, 49, 53, 48, 45, 39]"
   ]
  },
  {
   "cell_type": "markdown",
   "metadata": {},
   "source": [
    "The first element of the list is the temperature at 12am, the second element is the temperature at 1am, and so on. \n",
    "\n",
    "The company has decided that if one of the following events occurs, then the cooling system needs to be replaced for a new one to avoid damaging the processor.\n",
    "* More than 4 temperatures are greater than or equal to 70ºC.\n",
    "* Any temperature is above 80ºC.\n",
    "* The average temperature exceeds 65ºC.\n",
    "\n",
    "Follow the steps so that you can make the decision.\n",
    "\n",
    "#### 1. Find the minimum temperature of the day and store it in a variable."
   ]
  },
  {
   "cell_type": "code",
   "execution_count": 2,
   "metadata": {},
   "outputs": [
    {
     "name": "stdout",
     "output_type": "stream",
     "text": [
      "The minimum temperature of the day was 0\n"
     ]
    }
   ],
   "source": [
    "min_temp=min(temperatures_C)\n",
    "\n",
    "print('The minimum temperature of the day was', min_temp)"
   ]
  },
  {
   "cell_type": "markdown",
   "metadata": {},
   "source": [
    "#### 2. Find the maximum temperature of the day and store it in a variable."
   ]
  },
  {
   "cell_type": "code",
   "execution_count": 3,
   "metadata": {},
   "outputs": [
    {
     "name": "stdout",
     "output_type": "stream",
     "text": [
      "The maximum temperature of the day was 90\n"
     ]
    }
   ],
   "source": [
    "max_temp=max(temperatures_C)\n",
    "\n",
    "print('The maximum temperature of the day was', max_temp)"
   ]
  },
  {
   "cell_type": "markdown",
   "metadata": {},
   "source": [
    "#### 3. Create a list with the temperatures that are greater than or equal to 70ºC. Store it in a variable."
   ]
  },
  {
   "cell_type": "code",
   "execution_count": 4,
   "metadata": {},
   "outputs": [
    {
     "name": "stdout",
     "output_type": "stream",
     "text": [
      "The temperatures that are greater than or equal to 70ºC are: [70, 76, 80, 81, 80, 83, 90, 79]\n"
     ]
    }
   ],
   "source": [
    "hight_temp=[] #temperatures that are greater than or equal to 70ºC\n",
    "super_hight_temp=0 #numbers of temperatures that are greater than 80ºC\n",
    "\n",
    "for temp in range(len(temperatures_C)):\n",
    "    if temperatures_C[temp] >= 70:\n",
    "        hight_temp.append(temperatures_C[temp])\n",
    "    elif temperatures_C[temp] > 80: #count the number of temperatures that are greater than 80ºC\n",
    "        super_hight_temp += 1\n",
    "        \n",
    "print('The temperatures that are greater than or equal to 70ºC are:', hight_temp)"
   ]
  },
  {
   "cell_type": "markdown",
   "metadata": {},
   "source": [
    "#### 4. Find the average temperature of the day and store it in a variable."
   ]
  },
  {
   "cell_type": "code",
   "execution_count": 5,
   "metadata": {},
   "outputs": [
    {
     "name": "stdout",
     "output_type": "stream",
     "text": [
      "The average temperature of the day was 60.25\n"
     ]
    }
   ],
   "source": [
    "avg_temp=sum(temperatures_C)/len(temperatures_C)\n",
    "\n",
    "print('The average temperature of the day was', avg_temp)"
   ]
  },
  {
   "cell_type": "markdown",
   "metadata": {},
   "source": [
    "#### 5. Imagine that there was a sensor failure at 3am and the data for that specific hour was not recorded. How would you estimate the missing value? Replace the current value of the list at 3am for an estimation. "
   ]
  },
  {
   "cell_type": "code",
   "execution_count": 6,
   "metadata": {},
   "outputs": [
    {
     "name": "stdout",
     "output_type": "stream",
     "text": [
      "The linear interpolation give us a new temperature of: 62.0\n",
      "The new temperatures are: [33, 66, 65, 62.0, 59, 60, 62, 64, 70, 76, 80, 81, 80, 83, 90, 79, 61, 53, 50, 49, 53, 48, 45, 39]\n"
     ]
    }
   ],
   "source": [
    "#We can estimate the value through a linear interpolation\n",
    "\n",
    "total_hours=range(len(temperatures_C))\n",
    "hour_failure=3\n",
    "\n",
    "new_temp=temperatures_C[hour_failure-1]+((temperatures_C[hour_failure+1]-temperatures_C[hour_failure-1])/(total_hours[hour_failure+1]-total_hours[hour_failure-1]))*(total_hours[hour_failure]-total_hours[hour_failure-1])\n",
    "print('The linear interpolation give us a new temperature of:', new_temp)\n",
    "\n",
    "temperatures_C[hour_failure]=new_temp\n",
    "print('The new temperatures are:', temperatures_C)"
   ]
  },
  {
   "cell_type": "markdown",
   "metadata": {},
   "source": [
    "#### 6. Bonus: the maintenance staff is from the United States and does not understand the international metric system. Help them by converting the temperatures from Celsius to Fahrenheit.\n",
    "To know more about temperature conversion check this [link](https://en.wikipedia.org/wiki/Conversion_of_units_of_temperature).\n",
    "\n",
    "**Formula**: \n",
    "\n",
    "$F = 1.8 * C + 32$"
   ]
  },
  {
   "cell_type": "code",
   "execution_count": 7,
   "metadata": {},
   "outputs": [
    {
     "name": "stdout",
     "output_type": "stream",
     "text": [
      "The temperatures in Farenheit are: [91.4, 150.8, 149.0, 143.60000000000002, 138.2, 140.0, 143.60000000000002, 147.2, 158.0, 168.8, 176.0, 177.8, 176.0, 181.4, 194.0, 174.20000000000002, 141.8, 127.4, 122.0, 120.2, 127.4, 118.4, 113.0, 102.2]\n"
     ]
    }
   ],
   "source": [
    "temperatures_F=[]\n",
    "\n",
    "for temp in range(len(temperatures_C)):\n",
    "    temp_f=(1.8*temperatures_C[temp])+32\n",
    "    temperatures_F.append(temp_f)\n",
    "    \n",
    "    \n",
    "print('The temperatures in Farenheit are:', temperatures_F)"
   ]
  },
  {
   "cell_type": "markdown",
   "metadata": {},
   "source": [
    "#### 7. Make a decision!\n",
    "Now it's time to make a decision taking into account what you have seen until now. \n",
    "\n",
    "Remember that if one of the following events occurs, then the cooling system needs to be replaced for a new one to avoid damaging the processor.\n",
    "* More than 4 temperatures are greater than or equal to 70ºC.\n",
    "* Any temperature is above 80ºC.\n",
    "* The average temperature exceeds 65ºC.\n",
    "\n",
    "#### To make your decision, check if any of the three conditions above is met. You might need to use some of the variables you created in steps 1 to 6. Print a message to show if the cooling system needs to be changed or not."
   ]
  },
  {
   "cell_type": "code",
   "execution_count": 8,
   "metadata": {},
   "outputs": [
    {
     "name": "stdout",
     "output_type": "stream",
     "text": [
      "More than 4 temperatures are greater than or equal to 70ºC. \n",
      " The cooling system needs to be replaced for a new one to avoid damaging the processor\n"
     ]
    }
   ],
   "source": [
    "if len(hight_temp) > 4:\n",
    "    print('More than 4 temperatures are greater than or equal to 70ºC. \\n The cooling system needs to be replaced for a new one to avoid damaging the processor')\n",
    "elif super_hight_temp > 0:\n",
    "    print('There is minimum a temperature above 80ºC. \\n The cooling system needs to be replaced for a new one to avoid damaging the processor')\n",
    "elif avg_temp > 65:\n",
    "    print('The average temperature exceeds 65ºC. \\n The cooling system needs to be replaced for a new one to avoid damaging the processor')\n",
    "else:\n",
    "    print('The cooling system dont have any problem.')"
   ]
  },
  {
   "cell_type": "markdown",
   "metadata": {},
   "source": [
    "## Bonus\n",
    "\n",
    "The company has decided that the decision you made is not valid. They want you to analyze the data again but this time, the conditions that need to be met in order to change the cooling system are different.\n",
    "\n",
    "This time, if one of the following events occurs, then the cooling system needs to be replaced:\n",
    "* The temperature is greater than 70ºC during more than 4 consecutive hours.\n",
    "* Any temperature is above 80ºC.\n",
    "* The average temperature exceeds 65ºC.\n",
    "\n",
    "Follow the steps so that you can make the decision.\n",
    "\n",
    "#### 1. Create a list with the hours where the temperature is greater than 70ºC. Store it in a variable."
   ]
  },
  {
   "cell_type": "code",
   "execution_count": 9,
   "metadata": {},
   "outputs": [
    {
     "name": "stdout",
     "output_type": "stream",
     "text": [
      "The hours when the temperatures are greater than or equal to 70ºC are: [8, 9, 10, 11, 12, 13, 14, 15]\n"
     ]
    }
   ],
   "source": [
    "hours=[] #hours when the temperatures are greater than or equal to 70ºC\n",
    "\n",
    "for hour in range(len(temperatures_C)):\n",
    "    if temperatures_C[hour] >= 70:\n",
    "        hours.append(hour)\n",
    "\n",
    "#The 0 hour its equal to 12am\n",
    "print('The hours when the temperatures are greater than or equal to 70ºC are:', hours)"
   ]
  },
  {
   "cell_type": "markdown",
   "metadata": {},
   "source": [
    "#### 2. Check if the list you created in step 1 has more than 4 consecutive hours. "
   ]
  },
  {
   "cell_type": "code",
   "execution_count": 10,
   "metadata": {},
   "outputs": [
    {
     "name": "stdout",
     "output_type": "stream",
     "text": [
      "The temperature is greater than 70ºC during 8 consecutive hours\n"
     ]
    }
   ],
   "source": [
    "hour_count=0 ##count for consecutive hours\n",
    "\n",
    "for hour in range(len(hours)):\n",
    "    if hour_count == 0:\n",
    "        hour_count += 1\n",
    "    elif (hours[hour-1]+1) == hours[hour]:\n",
    "        hour_count += 1\n",
    "    else:\n",
    "        hour_count = 1\n",
    "        \n",
    "if hour_count > 4:\n",
    "    print('The temperature is greater than 70ºC during', hour_count, 'consecutive hours')\n",
    "else:\n",
    "    print('The temperature is not greater than 70ºC during more than 4 consecutive hours')"
   ]
  },
  {
   "cell_type": "markdown",
   "metadata": {},
   "source": [
    "#### 3. Make the decision!\n",
    "To make your decision, check if any of the three conditions is met. Print a message to show if the cooling system needs to be changed or not."
   ]
  },
  {
   "cell_type": "code",
   "execution_count": 11,
   "metadata": {},
   "outputs": [
    {
     "name": "stdout",
     "output_type": "stream",
     "text": [
      "The temperature is greater than 70ºC during more than 4 consecutive hours. \n",
      " The cooling system needs to be replaced for a new one to avoid damaging the processor\n"
     ]
    }
   ],
   "source": [
    "if hour_count > 4:\n",
    "    print('The temperature is greater than 70ºC during more than 4 consecutive hours. \\n The cooling system needs to be replaced for a new one to avoid damaging the processor')\n",
    "elif super_hight_temp > 0:\n",
    "    print('There is minimum a temperature above 80ºC. \\n The cooling system needs to be replaced for a new one to avoid damaging the processor')\n",
    "elif avg_temp > 65:\n",
    "    print('The average temperature exceeds 65ºC. \\n The cooling system needs to be replaced for a new one to avoid damaging the processor')\n",
    "else:\n",
    "    print('The cooling system dont have any problem.')"
   ]
  },
  {
   "cell_type": "markdown",
   "metadata": {},
   "source": [
    "#### 4. Find the average value of the temperature lists (ºC and ºF). What is the relation between both average values?"
   ]
  },
  {
   "cell_type": "code",
   "execution_count": 19,
   "metadata": {},
   "outputs": [
    {
     "name": "stdout",
     "output_type": "stream",
     "text": [
      "The average temperature in Celsius degrees is: 62.833333333333336\n",
      "The average temperature in Farenheit degrees is: 145.1\n",
      "\n",
      "The relationship between the two average values is as follows: \n",
      "If we use the formula seen previously (F=1.8*C+32) on the average temperature in degrees Celsius \n",
      "we obtain the average temperature in Farenheit.\n"
     ]
    }
   ],
   "source": [
    "avg_temp=sum(temperatures_C)/len(temperatures_C)\n",
    "avg_temp_F=sum(temperatures_F)/len(temperatures_F)\n",
    "\n",
    "print('The average temperature in Celsius degrees is:', avg_temp)\n",
    "print('The average temperature in Farenheit degrees is:', avg_temp_F)\n",
    "print('\\nThe relationship between the two average values is as follows: \\nIf we use the formula seen previously (F=1.8*C+32) on the average temperature in degrees Celsius \\nwe obtain the average temperature in Farenheit.')"
   ]
  },
  {
   "cell_type": "markdown",
   "metadata": {},
   "source": [
    "#### 5. Find the standard deviation of the temperature lists (ºC and ºF). What is the relation between both standard deviations?"
   ]
  },
  {
   "cell_type": "code",
   "execution_count": 22,
   "metadata": {},
   "outputs": [
    {
     "name": "stdout",
     "output_type": "stream",
     "text": [
      "The standard deviation of the temperature in Celsius degrees is: 14.94821980579356\n",
      "The standard deviation of the temperature in Farenheit degrees is: 26.906795650428407\n"
     ]
    }
   ],
   "source": [
    "import statistics\n",
    "\n",
    "des_vest_C=statistics.stdev(temperatures_C)\n",
    "des_vest_F=statistics.stdev(temperatures_F)\n",
    "\n",
    "print('The standard deviation of the temperature in Celsius degrees is:', des_vest_C)\n",
    "print('The standard deviation of the temperature in Farenheit degrees is:', des_vest_F)"
   ]
  },
  {
   "cell_type": "code",
   "execution_count": 26,
   "metadata": {},
   "outputs": [
    {
     "name": "stdout",
     "output_type": "stream",
     "text": [
      "14.633485192833897\n",
      "[[1. 1.]\n",
      " [1. 1.]]\n"
     ]
    }
   ],
   "source": [
    "import numpy\n",
    "r=numpy.corrcoef(temperatures_C,temperatures_F)\n",
    "print(numpy.std(temperatures_C))\n",
    "print(r)"
   ]
  }
 ],
 "metadata": {
  "kernelspec": {
   "display_name": "Python 3",
   "language": "python",
   "name": "python3"
  },
  "language_info": {
   "codemirror_mode": {
    "name": "ipython",
    "version": 3
   },
   "file_extension": ".py",
   "mimetype": "text/x-python",
   "name": "python",
   "nbconvert_exporter": "python",
   "pygments_lexer": "ipython3",
   "version": "3.8.8"
  }
 },
 "nbformat": 4,
 "nbformat_minor": 2
}
