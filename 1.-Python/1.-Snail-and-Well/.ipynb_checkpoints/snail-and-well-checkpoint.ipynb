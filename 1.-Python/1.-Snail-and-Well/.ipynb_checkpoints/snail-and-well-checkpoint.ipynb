{
 "cells": [
  {
   "cell_type": "markdown",
   "metadata": {},
   "source": [
    "<img src=\"https://bit.ly/2VnXWr2\" width=\"100\" align=\"left\">"
   ]
  },
  {
   "cell_type": "markdown",
   "metadata": {},
   "source": [
    "# The Snail and the Well\n",
    "\n",
    "A snail falls at the bottom of a 125 cm well. Each day the snail rises 30 cm. But at night, while sleeping, slides 20 cm because the walls are wet. How many days does it take for the snail to escape the well?\n",
    "\n",
    "**Hint**: The snail gets out of the well when it surpasses the 125cm of height.\n",
    "\n",
    "## Tools\n",
    "\n",
    "1. Loop: **while**\n",
    "2. Conditional statements: **if-else**\n",
    "3. Function: **print()**\n",
    "\n",
    "## Tasks\n",
    "\n",
    "#### 1. Assign the challenge data to variables with representative names: `well_height`, `daily_distance`, `nightly_distance` and `snail_position`."
   ]
  },
  {
   "cell_type": "code",
   "execution_count": 24,
   "metadata": {},
   "outputs": [],
   "source": [
    "# All distances in cm\n",
    "\n",
    "well_height=125 \n",
    "daily_distance=30\n",
    "nightly_distance=20\n",
    "snail_position=0"
   ]
  },
  {
   "cell_type": "markdown",
   "metadata": {},
   "source": [
    "#### 2. Create a variable `days` to keep count of the days that pass until the snail escapes the well. "
   ]
  },
  {
   "cell_type": "code",
   "execution_count": 25,
   "metadata": {},
   "outputs": [],
   "source": [
    "days=0"
   ]
  },
  {
   "cell_type": "markdown",
   "metadata": {},
   "source": [
    "#### 3. Find the solution to the challenge using the variables defined above. "
   ]
  },
  {
   "cell_type": "code",
   "execution_count": 26,
   "metadata": {},
   "outputs": [],
   "source": [
    "while snail_position < well_height:\n",
    "    \n",
    "    if (snail_position+daily_distance) <= well_height: #<= the snail need to surpasses the well height\n",
    "        snail_position+=daily_distance - nightly_distance #Final position of the snail in the day\n",
    "    \n",
    "    else:\n",
    "        snail_position+=daily_distance #if whe enter in the else condition the snail get out of the whell during the day\n",
    "        \n",
    "    days+=1 #days count"
   ]
  },
  {
   "cell_type": "markdown",
   "metadata": {},
   "source": [
    "#### 4. Print the solution."
   ]
  },
  {
   "cell_type": "code",
   "execution_count": 27,
   "metadata": {},
   "outputs": [
    {
     "name": "stdout",
     "output_type": "stream",
     "text": [
      "The snail took 11 days to come out of the well\n"
     ]
    }
   ],
   "source": [
    "print('The snail took', days, 'days to come out of the well')"
   ]
  },
  {
   "cell_type": "markdown",
   "metadata": {},
   "source": [
    "## Bonus\n",
    "The distance traveled by the snail each day is now defined by a list.\n",
    "```\n",
    "advance_cm = [30, 21, 33, 77, 44, 45, 23, 45, 12, 34, 55]\n",
    "```\n",
    "On the first day, the snail rises 30cm but during the night it slides 20cm. On the second day, the snail rises 21cm but during the night it slides 20cm, and so on. \n",
    "\n",
    "#### 1. How many days does it take for the snail to escape the well?\n",
    "Follow the same guidelines as in the previous challenge.\n",
    "\n",
    "**Hint**: Remember that the snail gets out of the well when it surpasses the 125cm of height."
   ]
  },
  {
   "cell_type": "code",
   "execution_count": 28,
   "metadata": {},
   "outputs": [
    {
     "name": "stdout",
     "output_type": "stream",
     "text": [
      "The snail took 6 days to come out of the well\n"
     ]
    }
   ],
   "source": [
    "well_height=125 \n",
    "advance_cm = [30, 21, 33, 77, 44, 45, 23, 45, 12, 34, 55]\n",
    "nightly_distance=20\n",
    "snail_position=0\n",
    "days=0\n",
    "\n",
    "while snail_position < well_height:\n",
    "    \n",
    "    if (snail_position+advance_cm[days]) <= well_height: #<= the snail need to surpasses the well height\n",
    "        snail_position+=advance_cm[days] - nightly_distance #Final position of the snail in the day\n",
    "    \n",
    "    else:\n",
    "        snail_position+=advance_cm[days] #if whe enter in the else condition the snail get out of the whell during the day\n",
    "        \n",
    "    days+=1 #days count\n",
    "    \n",
    "print('The snail took', days, 'days to come out of the well')"
   ]
  },
  {
   "cell_type": "markdown",
   "metadata": {},
   "source": [
    "#### 2. What is its maximum displacement in one day? And its minimum? Calculate the displacement using only the travel distance of the days used to get out of the well. \n",
    "**Hint**: Remember that displacement means the total distance risen taking into account that the snail slides at night.  "
   ]
  },
  {
   "cell_type": "code",
   "execution_count": 29,
   "metadata": {},
   "outputs": [
    {
     "name": "stdout",
     "output_type": "stream",
     "text": [
      "The maximum displacement of the snail in one day was 57 cm\n",
      "The minimum displacement of the snail in one day was 1 cm\n"
     ]
    }
   ],
   "source": [
    "well_height=125 \n",
    "advance_cm = [30, 21, 33, 77, 44, 45, 23, 45, 12, 34, 55]\n",
    "nightly_distance=20\n",
    "snail_position=0\n",
    "total_displacement=[] #list to record the distance traveled by the snail\n",
    "days=0\n",
    "\n",
    "while snail_position < well_height:\n",
    "    \n",
    "    if (snail_position+advance_cm[days]) <= well_height: #<= the snail need to surpasses the well height\n",
    "        total_displacement.append(advance_cm[days] - nightly_distance)\n",
    "        snail_position+=total_displacement[days] #Final position of the snail in the day\n",
    "    \n",
    "    else:\n",
    "        total_displacement.append(well_height-snail_position)\n",
    "        snail_position+=advance_cm[days] #if whe enter in the else condition the snail get out of the whell during the day\n",
    "        \n",
    "    days+=1 #days count\n",
    "    \n",
    "max_displacement=max(total_displacement) #maximum distance traveled\n",
    "min_displacement=min(total_displacement) #minimum distance traveled\n",
    "\n",
    "print('The maximum displacement of the snail in one day was', max_displacement, 'cm')\n",
    "print('The minimum displacement of the snail in one day was', min_displacement, 'cm')"
   ]
  },
  {
   "cell_type": "markdown",
   "metadata": {},
   "source": [
    "#### 3. What is its average progress? Take into account the snail slides at night."
   ]
  },
  {
   "cell_type": "code",
   "execution_count": 30,
   "metadata": {},
   "outputs": [
    {
     "name": "stdout",
     "output_type": "stream",
     "text": [
      "The average progres of the snail was 20.833333333333332 cm\n"
     ]
    }
   ],
   "source": [
    "avg_progress=sum(total_displacement)/len(total_displacement)\n",
    "print('The average progres of the snail was', avg_progress, 'cm')"
   ]
  },
  {
   "cell_type": "markdown",
   "metadata": {},
   "source": [
    "#### 4. What is the standard deviation of its displacement? Take into account the snail slides at night."
   ]
  },
  {
   "cell_type": "code",
   "execution_count": 31,
   "metadata": {},
   "outputs": [
    {
     "name": "stdout",
     "output_type": "stream",
     "text": [
      "The standard deviation of the snail displacement was 19.44650782702814 cm\n"
     ]
    }
   ],
   "source": [
    "import statistics\n",
    "\n",
    "desv_std = statistics.stdev(total_displacement)\n",
    "print('The standard deviation of the snail displacement was', desv_std, 'cm')"
   ]
  }
 ],
 "metadata": {
  "kernelspec": {
   "display_name": "Python 3",
   "language": "python",
   "name": "python3"
  },
  "language_info": {
   "codemirror_mode": {
    "name": "ipython",
    "version": 3
   },
   "file_extension": ".py",
   "mimetype": "text/x-python",
   "name": "python",
   "nbconvert_exporter": "python",
   "pygments_lexer": "ipython3",
   "version": "3.8.8"
  }
 },
 "nbformat": 4,
 "nbformat_minor": 2
}
